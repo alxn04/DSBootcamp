{
 "cells": [
  {
   "cell_type": "markdown",
   "metadata": {},
   "source": [
    "# Ex00 Line chart"
   ]
  },
  {
   "cell_type": "code",
   "execution_count": 20,
   "metadata": {},
   "outputs": [],
   "source": [
    "import pandas as pd\n",
    "import sqlite3"
   ]
  },
  {
   "cell_type": "code",
   "execution_count": 21,
   "metadata": {},
   "outputs": [],
   "source": [
    "con = sqlite3.connect(\"../data/checking-logs.sqlite\")\n",
    "cur = con.cursor()"
   ]
  },
  {
   "cell_type": "code",
   "execution_count": 22,
   "metadata": {},
   "outputs": [
    {
     "data": {
      "text/html": [
       "<div>\n",
       "<style scoped>\n",
       "    .dataframe tbody tr th:only-of-type {\n",
       "        vertical-align: middle;\n",
       "    }\n",
       "\n",
       "    .dataframe tbody tr th {\n",
       "        vertical-align: top;\n",
       "    }\n",
       "\n",
       "    .dataframe thead th {\n",
       "        text-align: right;\n",
       "    }\n",
       "</style>\n",
       "<table border=\"1\" class=\"dataframe\">\n",
       "  <thead>\n",
       "    <tr style=\"text-align: right;\">\n",
       "      <th></th>\n",
       "      <th>index</th>\n",
       "      <th>uid</th>\n",
       "      <th>datetime</th>\n",
       "    </tr>\n",
       "  </thead>\n",
       "  <tbody>\n",
       "    <tr>\n",
       "      <th>0</th>\n",
       "      <td>0</td>\n",
       "      <td>admin_1</td>\n",
       "      <td>2020-04-17 12:01:08.463179</td>\n",
       "    </tr>\n",
       "    <tr>\n",
       "      <th>1</th>\n",
       "      <td>1</td>\n",
       "      <td>admin_1</td>\n",
       "      <td>2020-04-17 12:01:23.743946</td>\n",
       "    </tr>\n",
       "    <tr>\n",
       "      <th>2</th>\n",
       "      <td>2</td>\n",
       "      <td>admin_3</td>\n",
       "      <td>2020-04-17 12:17:39.287778</td>\n",
       "    </tr>\n",
       "    <tr>\n",
       "      <th>3</th>\n",
       "      <td>3</td>\n",
       "      <td>admin_3</td>\n",
       "      <td>2020-04-17 12:17:40.001768</td>\n",
       "    </tr>\n",
       "    <tr>\n",
       "      <th>4</th>\n",
       "      <td>4</td>\n",
       "      <td>admin_1</td>\n",
       "      <td>2020-04-17 12:27:30.646665</td>\n",
       "    </tr>\n",
       "    <tr>\n",
       "      <th>...</th>\n",
       "      <td>...</td>\n",
       "      <td>...</td>\n",
       "      <td>...</td>\n",
       "    </tr>\n",
       "    <tr>\n",
       "      <th>1075</th>\n",
       "      <td>1075</td>\n",
       "      <td>user_25</td>\n",
       "      <td>2020-05-21 23:23:49.995349</td>\n",
       "    </tr>\n",
       "    <tr>\n",
       "      <th>1076</th>\n",
       "      <td>1076</td>\n",
       "      <td>admin_1</td>\n",
       "      <td>2020-05-21 23:49:22.386789</td>\n",
       "    </tr>\n",
       "    <tr>\n",
       "      <th>1077</th>\n",
       "      <td>1077</td>\n",
       "      <td>admin_1</td>\n",
       "      <td>2020-05-22 10:36:14.662600</td>\n",
       "    </tr>\n",
       "    <tr>\n",
       "      <th>1078</th>\n",
       "      <td>1078</td>\n",
       "      <td>user_5</td>\n",
       "      <td>2020-05-22 11:30:18.368990</td>\n",
       "    </tr>\n",
       "    <tr>\n",
       "      <th>1079</th>\n",
       "      <td>1079</td>\n",
       "      <td>user_17</td>\n",
       "      <td>2020-05-22 18:22:22.847815</td>\n",
       "    </tr>\n",
       "  </tbody>\n",
       "</table>\n",
       "<p>1080 rows × 3 columns</p>\n",
       "</div>"
      ],
      "text/plain": [
       "      index      uid                    datetime\n",
       "0         0  admin_1  2020-04-17 12:01:08.463179\n",
       "1         1  admin_1  2020-04-17 12:01:23.743946\n",
       "2         2  admin_3  2020-04-17 12:17:39.287778\n",
       "3         3  admin_3  2020-04-17 12:17:40.001768\n",
       "4         4  admin_1  2020-04-17 12:27:30.646665\n",
       "...     ...      ...                         ...\n",
       "1075   1075  user_25  2020-05-21 23:23:49.995349\n",
       "1076   1076  admin_1  2020-05-21 23:49:22.386789\n",
       "1077   1077  admin_1  2020-05-22 10:36:14.662600\n",
       "1078   1078   user_5  2020-05-22 11:30:18.368990\n",
       "1079   1079  user_17  2020-05-22 18:22:22.847815\n",
       "\n",
       "[1080 rows x 3 columns]"
      ]
     },
     "execution_count": 22,
     "metadata": {},
     "output_type": "execute_result"
    }
   ],
   "source": [
    "pd.read_sql(\"SELECT * FROM pageviews\",con)"
   ]
  },
  {
   "cell_type": "code",
   "execution_count": 23,
   "metadata": {},
   "outputs": [
    {
     "data": {
      "text/html": [
       "<div>\n",
       "<style scoped>\n",
       "    .dataframe tbody tr th:only-of-type {\n",
       "        vertical-align: middle;\n",
       "    }\n",
       "\n",
       "    .dataframe tbody tr th {\n",
       "        vertical-align: top;\n",
       "    }\n",
       "\n",
       "    .dataframe thead th {\n",
       "        text-align: right;\n",
       "    }\n",
       "</style>\n",
       "<table border=\"1\" class=\"dataframe\">\n",
       "  <thead>\n",
       "    <tr style=\"text-align: right;\">\n",
       "      <th></th>\n",
       "      <th>datetime</th>\n",
       "    </tr>\n",
       "  </thead>\n",
       "  <tbody>\n",
       "    <tr>\n",
       "      <th>0</th>\n",
       "      <td>2020-04-17 22:46:26.785035</td>\n",
       "    </tr>\n",
       "    <tr>\n",
       "      <th>1</th>\n",
       "      <td>2020-04-18 10:53:52.623447</td>\n",
       "    </tr>\n",
       "    <tr>\n",
       "      <th>2</th>\n",
       "      <td>2020-04-18 10:56:55.833899</td>\n",
       "    </tr>\n",
       "    <tr>\n",
       "      <th>3</th>\n",
       "      <td>2020-04-18 10:57:37.331258</td>\n",
       "    </tr>\n",
       "    <tr>\n",
       "      <th>4</th>\n",
       "      <td>2020-04-18 12:05:48.200144</td>\n",
       "    </tr>\n",
       "    <tr>\n",
       "      <th>...</th>\n",
       "      <td>...</td>\n",
       "    </tr>\n",
       "    <tr>\n",
       "      <th>982</th>\n",
       "      <td>2020-05-21 18:45:20.441142</td>\n",
       "    </tr>\n",
       "    <tr>\n",
       "      <th>983</th>\n",
       "      <td>2020-05-21 23:03:06.457819</td>\n",
       "    </tr>\n",
       "    <tr>\n",
       "      <th>984</th>\n",
       "      <td>2020-05-21 23:23:49.995349</td>\n",
       "    </tr>\n",
       "    <tr>\n",
       "      <th>985</th>\n",
       "      <td>2020-05-22 11:30:18.368990</td>\n",
       "    </tr>\n",
       "    <tr>\n",
       "      <th>986</th>\n",
       "      <td>2020-05-22 18:22:22.847815</td>\n",
       "    </tr>\n",
       "  </tbody>\n",
       "</table>\n",
       "<p>987 rows × 1 columns</p>\n",
       "</div>"
      ],
      "text/plain": [
       "                      datetime\n",
       "0   2020-04-17 22:46:26.785035\n",
       "1   2020-04-18 10:53:52.623447\n",
       "2   2020-04-18 10:56:55.833899\n",
       "3   2020-04-18 10:57:37.331258\n",
       "4   2020-04-18 12:05:48.200144\n",
       "..                         ...\n",
       "982 2020-05-21 18:45:20.441142\n",
       "983 2020-05-21 23:03:06.457819\n",
       "984 2020-05-21 23:23:49.995349\n",
       "985 2020-05-22 11:30:18.368990\n",
       "986 2020-05-22 18:22:22.847815\n",
       "\n",
       "[987 rows x 1 columns]"
      ]
     },
     "execution_count": 23,
     "metadata": {},
     "output_type": "execute_result"
    }
   ],
   "source": [
    "data = pd.read_sql(\"\"\"\n",
    "                SELECT datetime FROM pageviews\n",
    "                WHERE uid LIKE 'user%'\n",
    "            \"\"\", \n",
    "            con, parse_dates='datetime')\n",
    "data"
   ]
  },
  {
   "cell_type": "code",
   "execution_count": 24,
   "metadata": {},
   "outputs": [],
   "source": [
    "data['date'] = data.datetime.dt.date"
   ]
  },
  {
   "cell_type": "code",
   "execution_count": 25,
   "metadata": {},
   "outputs": [
    {
     "data": {
      "text/plain": [
       "date\n",
       "2020-04-17      1\n",
       "2020-04-18     23\n",
       "2020-04-19     15\n",
       "2020-04-21      3\n",
       "2020-04-22      1\n",
       "2020-04-23      5\n",
       "2020-04-25      1\n",
       "2020-04-26      8\n",
       "2020-04-28      2\n",
       "2020-04-29      4\n",
       "2020-04-30      9\n",
       "2020-05-01      3\n",
       "2020-05-02      6\n",
       "2020-05-03     19\n",
       "2020-05-04      1\n",
       "2020-05-05      1\n",
       "2020-05-06      3\n",
       "2020-05-07      2\n",
       "2020-05-08     48\n",
       "2020-05-09     19\n",
       "2020-05-10    110\n",
       "2020-05-11    200\n",
       "2020-05-12     85\n",
       "2020-05-13    102\n",
       "2020-05-14    187\n",
       "2020-05-15     29\n",
       "2020-05-16      4\n",
       "2020-05-17      9\n",
       "2020-05-18     51\n",
       "2020-05-19     11\n",
       "2020-05-20     12\n",
       "2020-05-21     11\n",
       "2020-05-22      2\n",
       "Name: date, dtype: int64"
      ]
     },
     "execution_count": 25,
     "metadata": {},
     "output_type": "execute_result"
    }
   ],
   "source": [
    "views_dates_counts = data.groupby(data.date).date.count()\n",
    "views_dates_counts"
   ]
  },
  {
   "cell_type": "code",
   "execution_count": 26,
   "metadata": {},
   "outputs": [
    {
     "name": "stdout",
     "output_type": "stream",
     "text": [
      "<class 'pandas.core.series.Series'>\n",
      "Index: 33 entries, 2020-04-17 to 2020-05-22\n",
      "Series name: date\n",
      "Non-Null Count  Dtype\n",
      "--------------  -----\n",
      "33 non-null     int64\n",
      "dtypes: int64(1)\n",
      "memory usage: 1.6+ KB\n"
     ]
    }
   ],
   "source": [
    "views_dates_counts.info()"
   ]
  },
  {
   "cell_type": "code",
   "execution_count": 27,
   "metadata": {},
   "outputs": [
    {
     "data": {
      "text/plain": [
       "<Axes: title={'center': 'Просмотры в день'}, xlabel='date'>"
      ]
     },
     "execution_count": 27,
     "metadata": {},
     "output_type": "execute_result"
    },
    {
     "data": {
      "image/png": "[encoded data removed]",
      "text/plain": [
       "<Figure size 1500x800 with 1 Axes>"
      ]
     },
     "metadata": {},
     "output_type": "display_data"
    }
   ],
   "source": [
    "\n",
    "views_dates_counts.plot(title = 'Просмотры в день', fontsize = 8, figsize=(15,8),rot=90)\n"
   ]
  },
  {
   "cell_type": "code",
   "execution_count": 28,
   "metadata": {},
   "outputs": [],
   "source": [
    "cur.close()"
   ]
  }
 ],
 "metadata": {
  "kernelspec": {
   "display_name": "Python 3",
   "language": "python",
   "name": "python3"
  },
  "language_info": {
   "codemirror_mode": {
    "name": "ipython",
    "version": 3
   },
   "file_extension": ".py",
   "mimetype": "text/x-python",
   "name": "python",
   "nbconvert_exporter": "python",
   "pygments_lexer": "ipython3",
   "version": "3.10.12"
  }
 },
 "nbformat": 4,
 "nbformat_minor": 2
}
